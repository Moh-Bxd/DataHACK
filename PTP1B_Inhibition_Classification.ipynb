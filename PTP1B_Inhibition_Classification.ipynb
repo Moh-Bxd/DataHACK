{
  "metadata": {
    "kernelspec": {
      "language": "python",
      "display_name": "Python 3",
      "name": "python3"
    },
    "language_info": {
      "name": "python",
      "version": "3.10.12",
      "mimetype": "text/x-python",
      "codemirror_mode": {
        "name": "ipython",
        "version": 3
      },
      "pygments_lexer": "ipython3",
      "nbconvert_exporter": "python",
      "file_extension": ".py"
    },
    "kaggle": {
      "accelerator": "gpu",
      "dataSources": [
        {
          "sourceId": 93767,
          "databundleVersionId": 11167300,
          "sourceType": "competition"
        }
      ],
      "dockerImageVersionId": 30887,
      "isInternetEnabled": true,
      "language": "python",
      "sourceType": "notebook",
      "isGpuEnabled": true
    },
    "colab": {
      "provenance": []
    }
  },
  "nbformat_minor": 0,
  "nbformat": 4,
  "cells": [
    {
      "source": [
        "# IMPORTANT: SOME KAGGLE DATA SOURCES ARE PRIVATE\n",
        "# RUN THIS CELL IN ORDER TO IMPORT YOUR KAGGLE DATA SOURCES.\n",
        "import kagglehub\n",
        "kagglehub.login()\n"
      ],
      "metadata": {
        "id": "7e-3rbIjQlHe"
      },
      "cell_type": "code",
      "outputs": [],
      "execution_count": null
    },
    {
      "source": [
        "# IMPORTANT: RUN THIS CELL IN ORDER TO IMPORT YOUR KAGGLE DATA SOURCES,\n",
        "# THEN FEEL FREE TO DELETE THIS CELL.\n",
        "# NOTE: THIS NOTEBOOK ENVIRONMENT DIFFERS FROM KAGGLE'S PYTHON\n",
        "# ENVIRONMENT SO THERE MAY BE MISSING LIBRARIES USED BY YOUR\n",
        "# NOTEBOOK.\n",
        "\n",
        "ptp_1_b_inhibition_classification_path = kagglehub.competition_download('ptp-1-b-inhibition-classification')\n",
        "\n",
        "print('Data source import complete.')\n"
      ],
      "metadata": {
        "id": "j4kpxbUsQlHf"
      },
      "cell_type": "code",
      "outputs": [],
      "execution_count": null
    },
    {
      "cell_type": "code",
      "source": [
        "# This Python 3 environment comes with many helpful analytics libraries installed\n",
        "# It is defined by the kaggle/python Docker image: https://github.com/kaggle/docker-python\n",
        "# For example, here's several helpful packages to load\n",
        "\n",
        "import numpy as np # linear algebra\n",
        "import pandas as pd # data processing, CSV file I/O (e.g. pd.read_csv)\n",
        "\n",
        "# Input data files are available in the read-only \"../input/\" directory\n",
        "# For example, running this (by clicking run or pressing Shift+Enter) will list all files under the input directory\n",
        "\n",
        "import os\n",
        "for dirname, _, filenames in os.walk('/kaggle/input'):\n",
        "    for filename in filenames:\n",
        "        print(os.path.join(dirname, filename))\n",
        "\n",
        "# You can write up to 20GB to the current directory (/kaggle/working/) that gets preserved as output when you create a version using \"Save & Run All\"\n",
        "# You can also write temporary files to /kaggle/temp/, but they won't be saved outside of the current session"
      ],
      "metadata": {
        "_uuid": "8f2839f25d086af736a60e9eeb907d3b93b6e0e5",
        "_cell_guid": "b1076dfc-b9ad-4769-8c92-a6c4dae69d19",
        "trusted": true,
        "execution": {
          "iopub.status.busy": "2025-02-21T04:03:42.457207Z",
          "iopub.execute_input": "2025-02-21T04:03:42.457711Z",
          "iopub.status.idle": "2025-02-21T04:03:42.467527Z",
          "shell.execute_reply.started": "2025-02-21T04:03:42.457668Z",
          "shell.execute_reply": "2025-02-21T04:03:42.465981Z"
        },
        "id": "4EofBi1KQlHf"
      },
      "outputs": [],
      "execution_count": null
    },
    {
      "cell_type": "code",
      "source": [
        "import pandas as pd\n",
        "import numpy as np\n",
        "from scipy import stats\n",
        "import random\n",
        "import warnings\n",
        "!pip install plotly\n",
        "\n",
        "# Visualization Libraries\n",
        "import matplotlib.pyplot as plt\n",
        "from matplotlib.colors import LinearSegmentedColormap\n",
        "import seaborn as sns\n",
        "import plotly.graph_objects as go\n",
        "import plotly.express as px\n",
        "%matplotlib inline\n",
        "!pip install plotly\n",
        "\n",
        "# Machine Learning Libraries\n",
        "from category_encoders import TargetEncoder\n",
        "from sklearn.pipeline import Pipeline\n",
        "from sklearn.impute import SimpleImputer\n",
        "from sklearn.compose import ColumnTransformer\n",
        "from sklearn.preprocessing import StandardScaler, OrdinalEncoder, FunctionTransformer\n",
        "from sklearn.model_selection import train_test_split, GridSearchCV, cross_val_score\n",
        "from sklearn.metrics import make_scorer, accuracy_score\n",
        "from sklearn.ensemble import IsolationForest\n",
        "from xgboost import XGBClassifier\n",
        "from catboost import CatBoostClassifier\n",
        "from sklearn.neural_network import MLPClassifier\n",
        "from sklearn.linear_model import LogisticRegression\n",
        "from sklearn.ensemble import StackingClassifier, HistGradientBoostingClassifier\n",
        "\n",
        "# Set random seed\n",
        "rs = 42\n",
        "\n",
        "# Ignore warnings\n",
        "warnings.filterwarnings(\"ignore\")\n",
        "\n",
        "# Set color palette for Seaborn\n",
        "colors= ['#1c76b6', '#a7dae9', '#eb6a20', '#f59d3d', '#677fa0', '#d6e4ed', '#f7e9e5']\n",
        "sns.set_palette(colors)"
      ],
      "metadata": {
        "trusted": true,
        "execution": {
          "iopub.status.busy": "2025-02-21T04:40:56.39781Z",
          "iopub.execute_input": "2025-02-21T04:40:56.398186Z",
          "iopub.status.idle": "2025-02-21T04:41:05.781689Z",
          "shell.execute_reply.started": "2025-02-21T04:40:56.398154Z",
          "shell.execute_reply": "2025-02-21T04:41:05.7796Z"
        },
        "id": "_YlPQe7-QlHg"
      },
      "outputs": [],
      "execution_count": null
    },
    {
      "cell_type": "markdown",
      "source": [
        "## imports"
      ],
      "metadata": {
        "id": "x2ikje6iQlHg"
      }
    },
    {
      "cell_type": "code",
      "source": [
        "import pandas as pd\n",
        "import numpy as np\n",
        "!pip install rdkit\n",
        "\n",
        "from rdkit import Chem\n",
        "from rdkit.Chem import Descriptors\n",
        "from sklearn.model_selection import KFold, cross_val_score\n",
        "from sklearn.ensemble import RandomForestClassifier, GradientBoostingClassifier\n",
        "from sklearn.linear_model import LogisticRegression\n",
        "from sklearn.svm import SVC\n",
        "from xgboost import XGBClassifier\n",
        "from sklearn.metrics import make_scorer, f1_score\n"
      ],
      "metadata": {
        "trusted": true,
        "execution": {
          "iopub.status.busy": "2025-02-21T04:41:05.784741Z",
          "iopub.execute_input": "2025-02-21T04:41:05.78533Z",
          "iopub.status.idle": "2025-02-21T04:41:10.453519Z",
          "shell.execute_reply.started": "2025-02-21T04:41:05.785235Z",
          "shell.execute_reply": "2025-02-21T04:41:10.451855Z"
        },
        "id": "EO1FOx_zQlHh"
      },
      "outputs": [],
      "execution_count": null
    },
    {
      "cell_type": "markdown",
      "source": [
        "## data"
      ],
      "metadata": {
        "id": "_ZTaM-BhQlHh"
      }
    },
    {
      "cell_type": "code",
      "source": [
        "df_train = pd.read_csv(\"/kaggle/input/ptp-1-b-inhibition-classification/train.csv\")\n",
        "df_test = pd.read_csv(\"/kaggle/input/ptp-1-b-inhibition-classification/test.csv\")"
      ],
      "metadata": {
        "trusted": true,
        "execution": {
          "iopub.status.busy": "2025-02-21T04:35:28.745823Z",
          "iopub.execute_input": "2025-02-21T04:35:28.746172Z",
          "iopub.status.idle": "2025-02-21T04:35:28.776559Z",
          "shell.execute_reply.started": "2025-02-21T04:35:28.746145Z",
          "shell.execute_reply": "2025-02-21T04:35:28.775633Z"
        },
        "id": "FZnIfuAmQlHh"
      },
      "outputs": [],
      "execution_count": null
    },
    {
      "cell_type": "code",
      "source": [
        "df_train.head()"
      ],
      "metadata": {
        "trusted": true,
        "execution": {
          "iopub.status.busy": "2025-02-21T04:03:58.40855Z",
          "iopub.execute_input": "2025-02-21T04:03:58.409274Z",
          "iopub.status.idle": "2025-02-21T04:03:58.428129Z",
          "shell.execute_reply.started": "2025-02-21T04:03:58.409218Z",
          "shell.execute_reply": "2025-02-21T04:03:58.426878Z"
        },
        "id": "2ZDT4DP0QlHi"
      },
      "outputs": [],
      "execution_count": null
    },
    {
      "cell_type": "code",
      "source": [
        "# Extract SMILES and Activity Status\n",
        "smiles_train = df_train['Smiles']\n",
        "activity_status = df_train['Activity_status'].map({'Active': 1, 'Inactive': 0})"
      ],
      "metadata": {
        "trusted": true,
        "execution": {
          "iopub.status.busy": "2025-02-21T04:36:00.340844Z",
          "iopub.execute_input": "2025-02-21T04:36:00.341195Z",
          "iopub.status.idle": "2025-02-21T04:36:00.347761Z",
          "shell.execute_reply.started": "2025-02-21T04:36:00.341168Z",
          "shell.execute_reply": "2025-02-21T04:36:00.346472Z"
        },
        "id": "0ruXM6JTQlHi"
      },
      "outputs": [],
      "execution_count": null
    },
    {
      "cell_type": "code",
      "source": [
        "import numpy as np\n",
        "import pandas as pd\n",
        "from rdkit import Chem\n",
        "from rdkit.Chem import Descriptors, rdMolDescriptors, MACCSkeys\n",
        "from rdkit.Chem.AllChem import GetMorganFingerprintAsBitVect\n",
        "from rdkit.Chem.rdmolops import GetAdjacencyMatrix\n",
        "from sklearn.model_selection import cross_val_score, KFold\n",
        "from sklearn.metrics import f1_score, make_scorer\n",
        "from sklearn.ensemble import RandomForestClassifier\n",
        "from sklearn.svm import SVC\n",
        "\n",
        "import pandas as pd\n",
        "import numpy as np\n",
        "from rdkit import Chem\n",
        "from rdkit.Chem import Descriptors\n",
        "from rdkit.Chem.AllChem import GetMorganFingerprintAsBitVect\n",
        "from rdkit.ML.Descriptors.MoleculeDescriptors import MolecularDescriptorCalculator\n",
        "from rdkit.Chem.rdFingerprintGenerator import GetMorganGenerator\n",
        "from rdkit.Chem import Descriptors\n",
        "from rdkit.ML.Descriptors import MoleculeDescriptors"
      ],
      "metadata": {
        "trusted": true,
        "execution": {
          "iopub.status.busy": "2025-02-21T04:37:00.285826Z",
          "iopub.execute_input": "2025-02-21T04:37:00.286226Z",
          "iopub.status.idle": "2025-02-21T04:37:00.293168Z",
          "shell.execute_reply.started": "2025-02-21T04:37:00.286193Z",
          "shell.execute_reply": "2025-02-21T04:37:00.291884Z"
        },
        "id": "YtoH46T_QlHi"
      },
      "outputs": [],
      "execution_count": null
    },
    {
      "cell_type": "markdown",
      "source": [
        "## Extracting features"
      ],
      "metadata": {
        "id": "tl3xdzPQQlHi"
      }
    },
    {
      "cell_type": "code",
      "source": [
        "import pandas as pd\n",
        "import numpy as np\n",
        "from rdkit import Chem\n",
        "from rdkit.Chem import Descriptors\n",
        "from rdkit.Chem.rdFingerprintGenerator import GetMorganGenerator\n",
        "from rdkit.ML.Descriptors.MoleculeDescriptors import MolecularDescriptorCalculator\n",
        "\n",
        "import pandas as pd\n",
        "import numpy as np\n",
        "from rdkit import Chem\n",
        "from rdkit.Chem import Descriptors\n",
        "from rdkit.Chem.rdFingerprintGenerator import GetMorganGenerator\n",
        "from rdkit.Chem.rdMolDescriptors import GetMACCSKeysFingerprint\n",
        "\n",
        "def extract_descriptors(smiles_list, fp_size=2048):\n",
        "    \"\"\"\n",
        "    Extracts molecular descriptors and fingerprints.\n",
        "    \"\"\"\n",
        "    descriptor_names = [\n",
        "        'MolWt', 'MolLogP', 'NumHDonors', 'NumHAcceptors', 'TPSA', 'FractionCSP3',\n",
        "        'NumRotatableBonds', 'NumAromaticRings', 'RingCount', 'BalabanJ', 'BertzCT',\n",
        "        'NumValenceElectrons', 'EState_VSA1', 'Chi0v', 'Chi1v', 'Kappa1', 'Kappa2',\n",
        "        'LabuteASA', 'HallKierAlpha',\n",
        "        'EccentricConnectivityIndex',  # New descriptor\n",
        "        'MolecularComplexity',         # New descriptor\n",
        "        'ElectrotopologicalStateIndex' # New descriptor\n",
        "    ]\n",
        "\n",
        "    calc = MoleculeDescriptors.MolecularDescriptorCalculator(descriptor_names)\n",
        "    fp_gen = GetMorganGenerator(radius=2, fpSize=fp_size)\n",
        "\n",
        "    descriptors = []\n",
        "\n",
        "    for smi in smiles_list:\n",
        "        try:\n",
        "            mol = Chem.MolFromSmiles(smi)\n",
        "            if mol:\n",
        "                # Compute Molecular Descriptors\n",
        "                desc_values = list(calc.CalcDescriptors(mol))\n",
        "\n",
        "                # Compute Morgan Fingerprints\n",
        "                fp = list(fp_gen.GetFingerprintAsNumPy(mol))\n",
        "\n",
        "                # Compute MACCS Keys (167-bit)\n",
        "                maccs_fp = list(GetMACCSKeysFingerprint(mol).ToBitString())\n",
        "                maccs_fp = [int(bit) for bit in maccs_fp]  # Convert string to binary array\n",
        "\n",
        "                # Combine Features\n",
        "                desc_values.extend(fp)\n",
        "                desc_values.extend(maccs_fp)\n",
        "            else:\n",
        "                desc_values = [np.nan] * (len(descriptor_names) + fp_size + 167)\n",
        "        except Exception:\n",
        "            desc_values = [np.nan] * (len(descriptor_names) + fp_size + 167)  # Handle errors\n",
        "\n",
        "        descriptors.append(desc_values)\n",
        "\n",
        "    # Column Names\n",
        "    feature_columns = (\n",
        "        descriptor_names +\n",
        "        [f'FP_{i}' for i in range(fp_size)] +\n",
        "        [f'MACCS_{i}' for i in range(167)]\n",
        "    )\n",
        "\n",
        "    return pd.DataFrame(descriptors, columns=feature_columns)\n",
        "\n"
      ],
      "metadata": {
        "trusted": true,
        "execution": {
          "iopub.status.busy": "2025-02-21T04:37:48.791429Z",
          "iopub.execute_input": "2025-02-21T04:37:48.791804Z",
          "iopub.status.idle": "2025-02-21T04:37:48.80484Z",
          "shell.execute_reply.started": "2025-02-21T04:37:48.791776Z",
          "shell.execute_reply": "2025-02-21T04:37:48.802948Z"
        },
        "id": "TD-HgGgsQlHj"
      },
      "outputs": [],
      "execution_count": null
    },
    {
      "cell_type": "code",
      "source": [
        "pip install --upgrade rdkit\n"
      ],
      "metadata": {
        "trusted": true,
        "execution": {
          "iopub.status.busy": "2025-02-21T04:37:13.945628Z",
          "iopub.execute_input": "2025-02-21T04:37:13.94596Z",
          "iopub.status.idle": "2025-02-21T04:37:18.74218Z",
          "shell.execute_reply.started": "2025-02-21T04:37:13.945936Z",
          "shell.execute_reply": "2025-02-21T04:37:18.740711Z"
        },
        "id": "t9wbiU36QlHj"
      },
      "outputs": [],
      "execution_count": null
    },
    {
      "cell_type": "code",
      "source": [
        "\n",
        "# Generate descriptors\n",
        "X_train = extract_descriptors(smiles_train)\n",
        "X_test = extract_descriptors(df_test['Smiles'])\n",
        "y_train = activity_status\n",
        "\n",
        "# Fill missing descriptor values instead of dropping rows\n",
        "X_train = X_train.fillna(0)\n",
        "X_test = X_test.fillna(0)\n",
        "\n"
      ],
      "metadata": {
        "trusted": true,
        "execution": {
          "iopub.status.busy": "2025-02-21T04:37:51.630171Z",
          "iopub.execute_input": "2025-02-21T04:37:51.630553Z",
          "iopub.status.idle": "2025-02-21T04:39:17.855716Z",
          "shell.execute_reply.started": "2025-02-21T04:37:51.630525Z",
          "shell.execute_reply": "2025-02-21T04:39:17.854633Z"
        },
        "id": "dcxBQXxHQlHj"
      },
      "outputs": [],
      "execution_count": null
    },
    {
      "cell_type": "code",
      "source": [
        "# descriptors = []\n",
        "# for smi in smiles_list:\n",
        "#     mol = Chem.MolFromSmiles(smi)\n",
        "#     if mol:\n",
        "#         desc_values = [\n",
        "#             Descriptors.MolWt(mol),\n",
        "#             Descriptors.NumHDonors(mol),\n",
        "#             Descriptors.NumHAcceptors(mol),\n",
        "#             Descriptors.MolLogP(mol)\n",
        "#         ]\n",
        "#     else:\n",
        "#         desc_values = [np.nan] * 4\n",
        "#     descriptors.append(desc_values)\n",
        "\n",
        "# descriptor_df = pd.DataFrame(descriptors, columns=['MolWt', 'NumHDonors', 'NumHAcceptors', 'MolLogP'])"
      ],
      "metadata": {
        "trusted": true,
        "execution": {
          "iopub.status.busy": "2025-02-21T01:52:53.97811Z",
          "iopub.execute_input": "2025-02-21T01:52:53.978507Z",
          "iopub.status.idle": "2025-02-21T01:52:53.982963Z",
          "shell.execute_reply.started": "2025-02-21T01:52:53.978477Z",
          "shell.execute_reply": "2025-02-21T01:52:53.981755Z"
        },
        "id": "VUzp8dj0QlHj"
      },
      "outputs": [],
      "execution_count": null
    },
    {
      "cell_type": "code",
      "source": [
        "X_train"
      ],
      "metadata": {
        "trusted": true,
        "execution": {
          "iopub.status.busy": "2025-02-21T04:39:32.671036Z",
          "iopub.execute_input": "2025-02-21T04:39:32.671459Z",
          "iopub.status.idle": "2025-02-21T04:39:32.698926Z",
          "shell.execute_reply.started": "2025-02-21T04:39:32.671425Z",
          "shell.execute_reply": "2025-02-21T04:39:32.697447Z"
        },
        "id": "CReehZnfQlHj"
      },
      "outputs": [],
      "execution_count": null
    },
    {
      "cell_type": "code",
      "source": [
        "print(X_train.shape)  # Should be (num_samples, num_descriptors + fp_size)\n",
        "print(X_test.shape)   # Should match X_train (except num_samples)"
      ],
      "metadata": {
        "trusted": true,
        "execution": {
          "iopub.status.busy": "2025-02-21T04:39:54.575941Z",
          "iopub.execute_input": "2025-02-21T04:39:54.576327Z",
          "iopub.status.idle": "2025-02-21T04:39:54.58285Z",
          "shell.execute_reply.started": "2025-02-21T04:39:54.576297Z",
          "shell.execute_reply": "2025-02-21T04:39:54.58167Z"
        },
        "id": "x0xTWAdeQlHj"
      },
      "outputs": [],
      "execution_count": null
    },
    {
      "cell_type": "markdown",
      "source": [
        "## histograms"
      ],
      "metadata": {
        "id": "5grLm0MzQlHj"
      }
    },
    {
      "cell_type": "code",
      "source": [
        "# Select only the molecular descriptors (excluding fingerprint bits)\n",
        "descriptor_columns = X_train.iloc[:, :13]\n",
        "\n",
        "# Plot histograms\n",
        "descriptor_columns.hist(figsize=(12, 10), bins=30)\n",
        "plt.suptitle(\"Distribution of Molecular Descriptors\")\n",
        "plt.show()"
      ],
      "metadata": {
        "trusted": true,
        "execution": {
          "iopub.status.busy": "2025-02-21T04:05:21.235254Z",
          "iopub.execute_input": "2025-02-21T04:05:21.235611Z",
          "iopub.status.idle": "2025-02-21T04:05:23.913777Z",
          "shell.execute_reply.started": "2025-02-21T04:05:21.235584Z",
          "shell.execute_reply": "2025-02-21T04:05:23.912445Z"
        },
        "collapsed": true,
        "jupyter": {
          "outputs_hidden": true
        },
        "id": "PtIXU4B7QlHj"
      },
      "outputs": [],
      "execution_count": null
    },
    {
      "cell_type": "markdown",
      "source": [
        "## heatmap"
      ],
      "metadata": {
        "id": "Y1Q_gCdqQlHj"
      }
    },
    {
      "cell_type": "code",
      "source": [
        "plt.figure(figsize=(12, 8))\n",
        "sns.heatmap(descriptor_columns.corr(), annot=True, cmap=\"coolwarm\", fmt=\".2f\")\n",
        "plt.title(\"Correlation Heatmap of Molecular Descriptors\")\n",
        "plt.show()\n"
      ],
      "metadata": {
        "trusted": true,
        "execution": {
          "iopub.status.busy": "2025-02-21T04:40:26.76476Z",
          "iopub.execute_input": "2025-02-21T04:40:26.765126Z",
          "iopub.status.idle": "2025-02-21T04:40:27.568436Z",
          "shell.execute_reply.started": "2025-02-21T04:40:26.7651Z",
          "shell.execute_reply": "2025-02-21T04:40:27.567031Z"
        },
        "id": "hBXDk_P1QlHj"
      },
      "outputs": [],
      "execution_count": null
    },
    {
      "cell_type": "markdown",
      "source": [
        "### tried removing outliers using histograms, but gave me worst results\n",
        "\n",
        "> Ajouter une citation\n",
        "\n"
      ],
      "metadata": {
        "id": "rr52IyUnRkQl"
      }
    },
    {
      "cell_type": "markdown",
      "source": [
        "## outliers"
      ],
      "metadata": {
        "id": "E3KMWArRQlHk"
      }
    },
    {
      "cell_type": "code",
      "source": [
        "from sklearn.feature_selection import VarianceThreshold\n",
        "\n",
        "selector = VarianceThreshold(threshold=0.01)  # Remove features with variance < 0.01\n",
        "X_train = pd.DataFrame(selector.fit_transform(X_train))\n",
        "X_test = pd.DataFrame(selector.transform(X_test))"
      ],
      "metadata": {
        "trusted": true,
        "execution": {
          "iopub.status.busy": "2025-02-21T04:39:50.996487Z",
          "iopub.execute_input": "2025-02-21T04:39:50.99681Z",
          "iopub.status.idle": "2025-02-21T04:39:51.194294Z",
          "shell.execute_reply.started": "2025-02-21T04:39:50.996786Z",
          "shell.execute_reply": "2025-02-21T04:39:51.193227Z"
        },
        "id": "f7YeTLZNQlHk"
      },
      "outputs": [],
      "execution_count": null
    },
    {
      "cell_type": "markdown",
      "source": [
        "## norm"
      ],
      "metadata": {
        "id": "vD2LnKwDQlHk"
      }
    },
    {
      "cell_type": "code",
      "source": [
        "# Normalize data\n",
        "scaler = StandardScaler()\n",
        "X_train = scaler.fit_transform(X_train)\n",
        "X_test = scaler.transform(X_test)\n"
      ],
      "metadata": {
        "trusted": true,
        "execution": {
          "iopub.status.busy": "2025-02-21T04:40:03.876923Z",
          "iopub.execute_input": "2025-02-21T04:40:03.877314Z",
          "iopub.status.idle": "2025-02-21T04:40:04.001995Z",
          "shell.execute_reply.started": "2025-02-21T04:40:03.877286Z",
          "shell.execute_reply": "2025-02-21T04:40:04.000302Z"
        },
        "id": "7XppIeNMQlHk"
      },
      "outputs": [],
      "execution_count": null
    },
    {
      "cell_type": "markdown",
      "source": [
        "preforming log transformation (and other methods )for skewed data (yes its kindda skewed) didnt do any good -------------\n",
        "scaling data using smote or udersamling didnt do any good either"
      ],
      "metadata": {
        "id": "CmgF3wbzSN_u"
      }
    },
    {
      "cell_type": "markdown",
      "source": [
        "## removing highly corrolatted data"
      ],
      "metadata": {
        "id": "9gNYVcDzQlHk"
      }
    },
    {
      "cell_type": "code",
      "source": [
        "correlation_matrix = X_train.corr().abs()\n",
        "upper_triangle = correlation_matrix.where(np.triu(np.ones(correlation_matrix.shape), k=1).astype(bool))\n",
        "high_corr_features = [column for column in upper_triangle.columns if any(upper_triangle[column] > 0.90)]\n",
        "X_train = X_train.drop(columns=high_corr_features)\n",
        "X_test = X_test.drop(columns=high_corr_features)"
      ],
      "metadata": {
        "trusted": true,
        "execution": {
          "iopub.status.busy": "2025-02-21T04:41:10.455653Z",
          "iopub.execute_input": "2025-02-21T04:41:10.45604Z",
          "iopub.status.idle": "2025-02-21T04:41:10.487911Z",
          "shell.execute_reply.started": "2025-02-21T04:41:10.455997Z",
          "shell.execute_reply": "2025-02-21T04:41:10.486168Z"
        },
        "id": "txJIPxdqQlHk"
      },
      "outputs": [],
      "execution_count": null
    },
    {
      "cell_type": "markdown",
      "source": [
        "## hyperp using optuna"
      ],
      "metadata": {
        "id": "VDYZ3TO4QlHk"
      }
    },
    {
      "cell_type": "code",
      "source": [
        "import optuna\n",
        "import numpy as np\n",
        "from sklearn.model_selection import cross_val_score, KFold\n",
        "from sklearn.metrics import make_scorer, f1_score\n",
        "from xgboost import XGBClassifier\n",
        "from lightgbm import LGBMClassifier\n",
        "from sklearn.ensemble import RandomForestClassifier, ExtraTreesClassifier\n",
        "from catboost import CatBoostClassifier\n",
        "\n",
        "# Define objective function for Optuna\n",
        "def objective(trial):\n",
        "    model_type = trial.suggest_categorical('model_type', ['RandomForest', 'XGBoost', 'LightGBM', 'CatBoost', 'ExtraTrees'])\n",
        "\n",
        "    if model_type == 'RandomForest':\n",
        "        params = {\n",
        "            'n_estimators': trial.suggest_int('n_estimators', 100, 300),  # Reduced range\n",
        "            'max_depth': trial.suggest_int('max_depth', 3, 15),  # Reduced range\n",
        "            'min_samples_split': trial.suggest_int('min_samples_split', 2, 5),  # Reduced range\n",
        "            'min_samples_leaf': trial.suggest_int('min_samples_leaf', 1, 3),  # Reduced range\n",
        "            'n_jobs': -1  # Enable parallel processing\n",
        "        }\n",
        "        model = RandomForestClassifier(**params, random_state=42)\n",
        "\n",
        "    elif model_type == 'XGBoost':\n",
        "        params = {\n",
        "            'n_estimators': trial.suggest_int('n_estimators', 100, 300),\n",
        "            'max_depth': trial.suggest_int('max_depth', 3, 10),\n",
        "            'learning_rate': trial.suggest_float('learning_rate', 0.01, 0.3, log=True),\n",
        "            'subsample': trial.suggest_float('subsample', 0.6, 1.0),\n",
        "            'colsample_bytree': trial.suggest_float('colsample_bytree', 0.6, 1.0),\n",
        "        }\n",
        "        model = XGBClassifier(**params, use_label_encoder=False, eval_metric='logloss', random_state=42)\n",
        "\n",
        "    elif model_type == 'LightGBM':\n",
        "        params = {\n",
        "            'n_estimators': trial.suggest_int('n_estimators', 100, 300),\n",
        "            'max_depth': trial.suggest_int('max_depth', 3, 10),\n",
        "            'learning_rate': trial.suggest_float('learning_rate', 0.01, 0.3, log=True),\n",
        "            'num_leaves': trial.suggest_int('num_leaves', 20, 100),\n",
        "            'min_child_samples': trial.suggest_int('min_child_samples', 10, 30),\n",
        "        }\n",
        "        model = LGBMClassifier(**params, random_state=42)\n",
        "\n",
        "    elif model_type == 'CatBoost':\n",
        "        params = {\n",
        "            'iterations': trial.suggest_int('iterations', 100, 300),\n",
        "            'depth': trial.suggest_int('depth', 3, 8),\n",
        "            'learning_rate': trial.suggest_float('learning_rate', 0.01, 0.3, log=True),\n",
        "            'l2_leaf_reg': trial.suggest_float('l2_leaf_reg', 1e-3, 10, log=True),\n",
        "        }\n",
        "        model = CatBoostClassifier(**params, verbose=0, random_state=42)\n",
        "\n",
        "    elif model_type == 'ExtraTrees':\n",
        "        params = {\n",
        "            'n_estimators': trial.suggest_int('n_estimators', 100, 300),\n",
        "            'max_depth': trial.suggest_int('max_depth', 3, 15),\n",
        "            'min_samples_split': trial.suggest_int('min_samples_split', 2, 5),\n",
        "            'min_samples_leaf': trial.suggest_int('min_samples_leaf', 1, 3),\n",
        "            'n_jobs': -1  # Enable parallel processing\n",
        "        }\n",
        "        model = ExtraTreesClassifier(**params, random_state=42)\n",
        "\n",
        "    # Perform cross-validation (reduced to 3 folds)\n",
        "    kf = KFold(n_splits=3, shuffle=True, random_state=42)\n",
        "    scores = cross_val_score(model, X_train, y_train, cv=kf, scoring=make_scorer(f1_score))\n",
        "\n",
        "    return np.mean(scores)\n",
        "\n",
        "# Run optimization (reduced trials)\n",
        "study = optuna.create_study(direction='maximize')\n",
        "study.optimize(objective, n_trials=10)  # Reduced from 20 to 10\n",
        "\n",
        "# Best model & parameters\n",
        "best_params = study.best_params\n",
        "print(\"Best Model:\", best_params['model_type'])\n",
        "print(\"Best Parameters:\", best_params)\n",
        "\n",
        "# Train the best model\n",
        "if best_params['model_type'] == 'RandomForest':\n",
        "    best_model = RandomForestClassifier(**{k: v for k, v in best_params.items() if k != 'model_type'}, random_state=42)\n",
        "elif best_params['model_type'] == 'XGBoost':\n",
        "    best_model = XGBClassifier(**{k: v for k, v in best_params.items() if k != 'model_type'}, use_label_encoder=False, eval_metric='logloss', random_state=42)\n",
        "elif best_params['model_type'] == 'LightGBM':\n",
        "    best_model = LGBMClassifier(**{k: v for k, v in best_params.items() if k != 'model_type'}, random_state=42)\n",
        "elif best_params['model_type'] == 'CatBoost':\n",
        "    best_model = CatBoostClassifier(**{k: v for k, v in best_params.items() if k != 'model_type'}, verbose=0, random_state=42)\n",
        "elif best_params['model_type'] == 'ExtraTrees':\n",
        "    best_model = ExtraTreesClassifier(**{k: v for k, v in best_params.items() if k != 'model_type'}, random_state=42)\n"
      ],
      "metadata": {
        "trusted": true,
        "execution": {
          "iopub.status.busy": "2025-02-21T05:08:01.713535Z",
          "iopub.execute_input": "2025-02-21T05:08:01.713945Z",
          "iopub.status.idle": "2025-02-21T05:08:37.595987Z",
          "shell.execute_reply.started": "2025-02-21T05:08:01.713914Z",
          "shell.execute_reply": "2025-02-21T05:08:37.594952Z"
        },
        "collapsed": true,
        "jupyter": {
          "outputs_hidden": true
        },
        "id": "NJfHN1T7QlHk"
      },
      "outputs": [],
      "execution_count": null
    },
    {
      "cell_type": "markdown",
      "source": [
        "my anser in genral was all about extracting the right features and fine tuning with optuna"
      ],
      "metadata": {
        "id": "qc0j_lRUSlKl"
      }
    },
    {
      "cell_type": "markdown",
      "source": [
        "## Old Approach"
      ],
      "metadata": {
        "id": "ORL71k4iQlHk"
      }
    },
    {
      "cell_type": "code",
      "source": [
        "# import pandas as pd\n",
        "\n",
        "# from sklearn.linear_model import LogisticRegression\n",
        "# from sklearn.ensemble import RandomForestClassifier, GradientBoostingClassifier, AdaBoostClassifier, ExtraTreesClassifier\n",
        "# from sklearn.naive_bayes import GaussianNB\n",
        "# from sklearn.neighbors import KNeighborsClassifier\n",
        "# from lightgbm import LGBMClassifier\n",
        "# from catboost import CatBoostClassifier\n",
        "# from xgboost import XGBClassifier\n",
        "\n",
        "# # Define models with class weights if needed\n",
        "# models = {\n",
        "#     \"RandomForest\": RandomForestClassifier(n_estimators=100, random_state=42, class_weight=\"balanced\"),\n",
        "#     \"XGBoost\": XGBClassifier(use_label_encoder=False, eval_metric='logloss', random_state=42, scale_pos_weight=10),\n",
        "#     \"LogisticRegression\": LogisticRegression(max_iter=1000, class_weight=\"balanced\"),\n",
        "#     \"GradientBoosting\": GradientBoostingClassifier(n_estimators=100, random_state=42),\n",
        "#     \"KNN\": KNeighborsClassifier(n_neighbors=5),\n",
        "#     \"NaiveBayes\": GaussianNB(),\n",
        "#     \"AdaBoost\": AdaBoostClassifier(n_estimators=100, random_state=42),\n",
        "#     \"ExtraTrees\": ExtraTreesClassifier(n_estimators=100, random_state=42, class_weight=\"balanced\"),\n",
        "#     \"LightGBM\": LGBMClassifier(n_estimators=100, random_state=42),\n",
        "#     \"CatBoost\": CatBoostClassifier(verbose=0, random_state=42)\n",
        "# }\n"
      ],
      "metadata": {
        "trusted": true,
        "id": "wzna8ib6QlHk"
      },
      "outputs": [],
      "execution_count": null
    },
    {
      "cell_type": "code",
      "source": [
        "# kf = KFold(n_splits=5, shuffle=True, random_state=42)\n",
        "# best_model = None\n",
        "# best_score = 0"
      ],
      "metadata": {
        "trusted": true,
        "execution": {
          "iopub.status.busy": "2025-02-21T04:08:13.483067Z",
          "iopub.execute_input": "2025-02-21T04:08:13.483484Z",
          "iopub.status.idle": "2025-02-21T04:08:13.488958Z",
          "shell.execute_reply.started": "2025-02-21T04:08:13.483456Z",
          "shell.execute_reply": "2025-02-21T04:08:13.487299Z"
        },
        "id": "yoZd2bYZQlHl"
      },
      "outputs": [],
      "execution_count": null
    },
    {
      "cell_type": "code",
      "source": [
        "\n",
        "# print(\"\\nCross-Validation F1 Scores:\")\n",
        "# for name, model in models.items():\n",
        "#     scores = cross_val_score(model, df_transformed, y_train, cv=kf, scoring=make_scorer(f1_score))\n",
        "#     mean_score = np.mean(scores)\n",
        "#     print(f'{name}: F1 Score = {mean_score:.4f}')\n",
        "\n",
        "#     if mean_score > best_score:\n",
        "#         best_score = mean_score\n",
        "#         best_model = model\n"
      ],
      "metadata": {
        "trusted": true,
        "execution": {
          "iopub.status.busy": "2025-02-21T04:08:14.299553Z",
          "iopub.execute_input": "2025-02-21T04:08:14.299882Z",
          "iopub.status.idle": "2025-02-21T04:08:14.327629Z",
          "shell.execute_reply.started": "2025-02-21T04:08:14.299858Z",
          "shell.execute_reply": "2025-02-21T04:08:14.32576Z"
        },
        "collapsed": true,
        "jupyter": {
          "outputs_hidden": true
        },
        "id": "ALwE8AICQlHl"
      },
      "outputs": [],
      "execution_count": null
    },
    {
      "cell_type": "code",
      "source": [
        "best_score = study.best_value  # This retrieves the best F1 score from optimization\n",
        "print(best_score)"
      ],
      "metadata": {
        "trusted": true,
        "execution": {
          "iopub.status.busy": "2025-02-21T05:11:54.694351Z",
          "iopub.execute_input": "2025-02-21T05:11:54.694796Z",
          "iopub.status.idle": "2025-02-21T05:11:54.701022Z",
          "shell.execute_reply.started": "2025-02-21T05:11:54.694767Z",
          "shell.execute_reply": "2025-02-21T05:11:54.699863Z"
        },
        "id": "5pERnZbEQlHl"
      },
      "outputs": [],
      "execution_count": null
    },
    {
      "cell_type": "markdown",
      "source": [
        "## the best model the optuna gave me"
      ],
      "metadata": {
        "id": "Ocy5QdroQlHl"
      }
    },
    {
      "cell_type": "code",
      "source": [
        "# Train best model\n",
        "print(f'Best Model: {best_model.__class__.__name__} with F1 Score: {best_score:.4f}')\n",
        "best_model.fit(X_train, y_train)\n",
        "Best Parameters: {'model_type': 'XGBoost', 'n_estimators': 286, 'max_depth': 4, 'learning_rate': 0.030952931422725427, 'subsample': 0.9942581082777213, 'colsample_bytree': 0.9518891435028527}"
      ],
      "metadata": {
        "trusted": true,
        "execution": {
          "iopub.status.busy": "2025-02-21T05:10:12.800937Z",
          "iopub.execute_input": "2025-02-21T05:10:12.801449Z",
          "iopub.status.idle": "2025-02-21T05:10:14.170503Z",
          "shell.execute_reply.started": "2025-02-21T05:10:12.801403Z",
          "shell.execute_reply": "2025-02-21T05:10:14.168361Z"
        },
        "id": "By7DZrg3QlHl"
      },
      "outputs": [],
      "execution_count": null
    },
    {
      "cell_type": "markdown",
      "source": [
        "## SUBM"
      ],
      "metadata": {
        "id": "9FuhOaKcQlHl"
      }
    },
    {
      "cell_type": "code",
      "source": [
        "predictions = best_model.predict(X_test)\n",
        "predicted_labels = ['Active' if pred == 1 else 'Inactive' for pred in predictions]\n",
        "\n",
        "# ---------------------------- #\n",
        "# Save Submission\n",
        "# ---------------------------- #\n",
        "submission = pd.DataFrame({\n",
        "    'Molecule ChEMBL ID': df_test['Molecule ChEMBL ID'],\n",
        "    'Activity_Status': predicted_labels\n",
        "})\n",
        "\n",
        "submission.to_csv('10.csv', index=False)\n",
        "print(\"\\nPredictions saved to submission.csv\")"
      ],
      "metadata": {
        "trusted": true,
        "execution": {
          "iopub.status.busy": "2025-02-21T05:13:12.636214Z",
          "iopub.execute_input": "2025-02-21T05:13:12.63669Z",
          "iopub.status.idle": "2025-02-21T05:13:12.662913Z",
          "shell.execute_reply.started": "2025-02-21T05:13:12.636659Z",
          "shell.execute_reply": "2025-02-21T05:13:12.660407Z"
        },
        "id": "Ly7emifUQlHl"
      },
      "outputs": [],
      "execution_count": null
    },
    {
      "cell_type": "code",
      "source": [],
      "metadata": {
        "trusted": true,
        "id": "-88J2W2DQlHo"
      },
      "outputs": [],
      "execution_count": null
    },
    {
      "cell_type": "code",
      "source": [],
      "metadata": {
        "trusted": true,
        "id": "ZEh-O1GiQlHo"
      },
      "outputs": [],
      "execution_count": null
    }
  ]
}